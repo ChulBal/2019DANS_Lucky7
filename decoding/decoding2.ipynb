{
 "cells": [
  {
   "cell_type": "code",
   "execution_count": 14,
   "metadata": {},
   "outputs": [],
   "source": [
    "import numpy as np\n",
    "import pandas as pd\n",
    "from sklearn.model_selection import train_test_split\n",
    "from sklearn import datasets\n",
    "from sklearn import svm"
   ]
  },
  {
   "cell_type": "markdown",
   "metadata": {},
   "source": [
    "## Load data"
   ]
  },
  {
   "cell_type": "code",
   "execution_count": 30,
   "metadata": {},
   "outputs": [],
   "source": [
    "spike_pos = pd.read_csv('spike_pos.csv')"
   ]
  },
  {
   "cell_type": "code",
   "execution_count": 32,
   "metadata": {},
   "outputs": [],
   "source": [
    "spike_pos = spike_pos.iloc[:,1:]"
   ]
  },
  {
   "cell_type": "code",
   "execution_count": null,
   "metadata": {},
   "outputs": [],
   "source": [
    "## Set X and Y"
   ]
  },
  {
   "cell_type": "code",
   "execution_count": 37,
   "metadata": {},
   "outputs": [],
   "source": [
    "X = np.array(spike_pos.iloc[:,1:-1])"
   ]
  },
  {
   "cell_type": "code",
   "execution_count": 38,
   "metadata": {},
   "outputs": [],
   "source": [
    "y = np.array(spike_pos['pos'])"
   ]
  },
  {
   "cell_type": "code",
   "execution_count": 39,
   "metadata": {},
   "outputs": [
    {
     "data": {
      "text/plain": [
       "(9192, 55)"
      ]
     },
     "execution_count": 39,
     "metadata": {},
     "output_type": "execute_result"
    }
   ],
   "source": [
    "np.shape(X)"
   ]
  },
  {
   "cell_type": "code",
   "execution_count": 40,
   "metadata": {},
   "outputs": [
    {
     "data": {
      "text/plain": [
       "(9192,)"
      ]
     },
     "execution_count": 40,
     "metadata": {},
     "output_type": "execute_result"
    }
   ],
   "source": [
    "np.shape(y)"
   ]
  },
  {
   "cell_type": "markdown",
   "metadata": {},
   "source": [
    "## Try many models"
   ]
  },
  {
   "cell_type": "code",
   "execution_count": null,
   "metadata": {},
   "outputs": [],
   "source": [
    "## kernal = poly, c =1, one-vs-rest"
   ]
  },
  {
   "cell_type": "code",
   "execution_count": 66,
   "metadata": {},
   "outputs": [],
   "source": [
    "poly = svm.SVC(kernel='poly', C=1)"
   ]
  },
  {
   "cell_type": "code",
   "execution_count": 67,
   "metadata": {},
   "outputs": [
    {
     "data": {
      "text/plain": [
       "array([0.21945946, 0.26623377, 0.26868906, 0.25488069, 0.27687296,\n",
       "       0.25490196, 0.26499455, 0.32240437, 0.28008753, 0.22562979])"
      ]
     },
     "execution_count": 67,
     "metadata": {},
     "output_type": "execute_result"
    }
   ],
   "source": [
    "cross_val_score(poly, X, y, cv=10)"
   ]
  },
  {
   "cell_type": "code",
   "execution_count": 68,
   "metadata": {},
   "outputs": [
    {
     "data": {
      "text/plain": [
       "0.263415414"
      ]
     },
     "execution_count": 68,
     "metadata": {},
     "output_type": "execute_result"
    }
   ],
   "source": [
    "np.mean([0.21945946, 0.26623377, 0.26868906, 0.25488069, 0.27687296,\n",
    "       0.25490196, 0.26499455, 0.32240437, 0.28008753, 0.22562979])"
   ]
  },
  {
   "cell_type": "code",
   "execution_count": null,
   "metadata": {},
   "outputs": [],
   "source": [
    "## kernal = random basis function, c =1, one-vs-rest"
   ]
  },
  {
   "cell_type": "code",
   "execution_count": 61,
   "metadata": {},
   "outputs": [],
   "source": [
    "rbf = svm.SVC(kernel='rbf', C=1)"
   ]
  },
  {
   "cell_type": "code",
   "execution_count": 64,
   "metadata": {},
   "outputs": [
    {
     "data": {
      "text/plain": [
       "array([0.3372973 , 0.3961039 , 0.36294691, 0.40130152, 0.37567861,\n",
       "       0.36819172, 0.42311887, 0.48415301, 0.47155361, 0.41840088])"
      ]
     },
     "execution_count": 64,
     "metadata": {},
     "output_type": "execute_result"
    }
   ],
   "source": [
    "cross_val_score(rbf, X, y, cv=10)"
   ]
  },
  {
   "cell_type": "code",
   "execution_count": 65,
   "metadata": {},
   "outputs": [
    {
     "data": {
      "text/plain": [
       "0.40387463300000004"
      ]
     },
     "execution_count": 65,
     "metadata": {},
     "output_type": "execute_result"
    }
   ],
   "source": [
    "np.mean([0.3372973 , 0.3961039 , 0.36294691, 0.40130152, 0.37567861,\n",
    "       0.36819172, 0.42311887, 0.48415301, 0.47155361, 0.41840088])"
   ]
  },
  {
   "cell_type": "code",
   "execution_count": null,
   "metadata": {},
   "outputs": [],
   "source": [
    "## kernal = linear, one-vs-one, c =1"
   ]
  },
  {
   "cell_type": "code",
   "execution_count": 58,
   "metadata": {},
   "outputs": [],
   "source": [
    "ovo = svm.SVC(kernel='linear', C=1, decision_function_shape='ovo')"
   ]
  },
  {
   "cell_type": "code",
   "execution_count": 59,
   "metadata": {},
   "outputs": [
    {
     "data": {
      "text/plain": [
       "array([0.33081081, 0.3982684 , 0.3531961 , 0.40997831, 0.36264929,\n",
       "       0.37472767, 0.4176663 , 0.48306011, 0.46608315, 0.42497262])"
      ]
     },
     "execution_count": 59,
     "metadata": {},
     "output_type": "execute_result"
    }
   ],
   "source": [
    "cross_val_score(ovo, X, y, cv=10)"
   ]
  },
  {
   "cell_type": "code",
   "execution_count": 60,
   "metadata": {},
   "outputs": [
    {
     "data": {
      "text/plain": [
       "0.40214127600000005"
      ]
     },
     "execution_count": 60,
     "metadata": {},
     "output_type": "execute_result"
    }
   ],
   "source": [
    "np.mean([0.33081081, 0.3982684 , 0.3531961 , 0.40997831, 0.36264929,\n",
    "       0.37472767, 0.4176663 , 0.48306011, 0.46608315, 0.42497262])"
   ]
  },
  {
   "cell_type": "code",
   "execution_count": null,
   "metadata": {},
   "outputs": [],
   "source": [
    "## kernal = linear, c = 1, one-vs-rest"
   ]
  },
  {
   "cell_type": "code",
   "execution_count": 50,
   "metadata": {},
   "outputs": [],
   "source": [
    "lin_clf = svm.LinearSVC()"
   ]
  },
  {
   "cell_type": "code",
   "execution_count": 52,
   "metadata": {},
   "outputs": [
    {
     "data": {
      "text/plain": [
       "LinearSVC(C=1.0, class_weight=None, dual=True, fit_intercept=True,\n",
       "     intercept_scaling=1, loss='squared_hinge', max_iter=1000,\n",
       "     multi_class='ovr', penalty='l2', random_state=None, tol=0.0001,\n",
       "     verbose=0)"
      ]
     },
     "execution_count": 52,
     "metadata": {},
     "output_type": "execute_result"
    }
   ],
   "source": [
    "lin_clf"
   ]
  },
  {
   "cell_type": "code",
   "execution_count": 69,
   "metadata": {},
   "outputs": [
    {
     "data": {
      "text/plain": [
       "array([0.34054054, 0.39069264, 0.36186349, 0.40997831, 0.36156352,\n",
       "       0.38017429, 0.4089422 , 0.48961749, 0.4726477 , 0.41073384])"
      ]
     },
     "execution_count": 69,
     "metadata": {},
     "output_type": "execute_result"
    }
   ],
   "source": [
    "cross_val_score(lin_clf, X, y, cv=10)"
   ]
  },
  {
   "cell_type": "code",
   "execution_count": 70,
   "metadata": {},
   "outputs": [
    {
     "data": {
      "text/plain": [
       "0.402675402"
      ]
     },
     "execution_count": 70,
     "metadata": {},
     "output_type": "execute_result"
    }
   ],
   "source": [
    "np.mean([0.34054054, 0.39069264, 0.36186349, 0.40997831, 0.36156352,\n",
    "       0.38017429, 0.4089422 , 0.48961749, 0.4726477 , 0.41073384])"
   ]
  },
  {
   "cell_type": "code",
   "execution_count": 245,
   "metadata": {},
   "outputs": [],
   "source": [
    "## kernal = linear, c = 0.001, one-vs-rest"
   ]
  },
  {
   "cell_type": "code",
   "execution_count": 71,
   "metadata": {},
   "outputs": [],
   "source": [
    "clf_c = svm.SVC(kernel='linear', C=0.001)"
   ]
  },
  {
   "cell_type": "code",
   "execution_count": 72,
   "metadata": {},
   "outputs": [
    {
     "data": {
      "text/plain": [
       "array([0.29945946, 0.33116883, 0.32177681, 0.30911063, 0.31921824,\n",
       "       0.33442266, 0.32606325, 0.39234973, 0.34463895, 0.30887185])"
      ]
     },
     "execution_count": 72,
     "metadata": {},
     "output_type": "execute_result"
    }
   ],
   "source": [
    "cross_val_score(clf_c, X, y, cv=10)"
   ]
  },
  {
   "cell_type": "code",
   "execution_count": 73,
   "metadata": {},
   "outputs": [
    {
     "data": {
      "text/plain": [
       "0.32870804100000006"
      ]
     },
     "execution_count": 73,
     "metadata": {},
     "output_type": "execute_result"
    }
   ],
   "source": [
    "np.mean([0.29945946, 0.33116883, 0.32177681, 0.30911063, 0.31921824,\n",
    "       0.33442266, 0.32606325, 0.39234973, 0.34463895, 0.30887185])"
   ]
  },
  {
   "cell_type": "markdown",
   "metadata": {},
   "source": [
    "### Okay, it seems like performance of all models are not good enough (accuracy 0.4ish)\n",
    "### Anyway, linear SVM (c=1, one-vs-rest) seems okay..."
   ]
  },
  {
   "cell_type": "code",
   "execution_count": 247,
   "metadata": {},
   "outputs": [],
   "source": [
    "## Make prediction output"
   ]
  },
  {
   "cell_type": "code",
   "execution_count": 74,
   "metadata": {},
   "outputs": [],
   "source": [
    "from sklearn.model_selection import KFold"
   ]
  },
  {
   "cell_type": "code",
   "execution_count": 90,
   "metadata": {},
   "outputs": [
    {
     "data": {
      "text/plain": [
       "10"
      ]
     },
     "execution_count": 90,
     "metadata": {},
     "output_type": "execute_result"
    }
   ],
   "source": [
    "kf = KFold(n_splits=10, random_state = 1)\n",
    "kf.get_n_splits(X)"
   ]
  },
  {
   "cell_type": "code",
   "execution_count": 110,
   "metadata": {},
   "outputs": [],
   "source": [
    "train = []\n",
    "test = []\n",
    "for train_index, test_index in kf.split(X):\n",
    "    train.append(train_index)\n",
    "    test.append(test_index)\n",
    "    #print(\"TRAIN:\", train_index1[0], \"TEST:\", test_index1[0])"
   ]
  },
  {
   "cell_type": "code",
   "execution_count": 118,
   "metadata": {},
   "outputs": [],
   "source": [
    "X_train1, X_test1 = X[train[0]], X[test[0]]\n",
    "y_train1, y_test1 = y[train[0]], y[test[0]]"
   ]
  },
  {
   "cell_type": "code",
   "execution_count": 119,
   "metadata": {},
   "outputs": [
    {
     "data": {
      "text/plain": [
       "(8272, 55)"
      ]
     },
     "execution_count": 119,
     "metadata": {},
     "output_type": "execute_result"
    }
   ],
   "source": [
    "np.shape(X_train1)"
   ]
  },
  {
   "cell_type": "code",
   "execution_count": 120,
   "metadata": {},
   "outputs": [
    {
     "data": {
      "text/plain": [
       "(920, 55)"
      ]
     },
     "execution_count": 120,
     "metadata": {},
     "output_type": "execute_result"
    }
   ],
   "source": [
    "np.shape(X_test1)"
   ]
  },
  {
   "cell_type": "code",
   "execution_count": 121,
   "metadata": {},
   "outputs": [
    {
     "data": {
      "text/plain": [
       "0.33043478260869563"
      ]
     },
     "execution_count": 121,
     "metadata": {},
     "output_type": "execute_result"
    }
   ],
   "source": [
    "clf = svm.SVC(kernel='linear', C=1).fit(X_train1, y_train1)\n",
    "clf.score(X_test1, y_test1) "
   ]
  },
  {
   "cell_type": "code",
   "execution_count": 123,
   "metadata": {},
   "outputs": [],
   "source": [
    "y_pred1 = clf.predict(X_test1) # y_test1"
   ]
  },
  {
   "cell_type": "code",
   "execution_count": 125,
   "metadata": {},
   "outputs": [
    {
     "data": {
      "text/plain": [
       "0.33043478260869563"
      ]
     },
     "execution_count": 125,
     "metadata": {},
     "output_type": "execute_result"
    }
   ],
   "source": [
    "np.mean(y_pred1 == y_test1) # score와 동일"
   ]
  },
  {
   "cell_type": "code",
   "execution_count": 265,
   "metadata": {},
   "outputs": [],
   "source": [
    "sc_list = []\n",
    "y_pred_list = []\n",
    "y_real_list = []\n",
    "for i in range(10):\n",
    "    X_train, X_test = X[train[i]], X[test[i]]\n",
    "    y_train, y_test = y[train[i]], y[test[i]]\n",
    "\n",
    "    clf = svm.SVC(kernel='linear', C=1).fit(X_train, y_train)\n",
    "    sc = clf.score(X_test, y_test)\n",
    "    sc_list.append(sc)\n",
    "\n",
    "    y_pred = clf.predict(X_test)\n",
    "    y_pred_list.append(y_pred)\n",
    "    y_real_list.append(y[test[i]])"
   ]
  },
  {
   "cell_type": "code",
   "execution_count": 267,
   "metadata": {},
   "outputs": [
    {
     "data": {
      "text/plain": [
       "[0.33043478260869563,\n",
       " 0.36630434782608695,\n",
       " 0.3264417845484222,\n",
       " 0.3438520130576714,\n",
       " 0.4091403699673558,\n",
       " 0.37323177366702937,\n",
       " 0.44069640914036995,\n",
       " 0.44178454842219805,\n",
       " 0.4689880304678999,\n",
       " 0.4102285092491839]"
      ]
     },
     "execution_count": 267,
     "metadata": {},
     "output_type": "execute_result"
    }
   ],
   "source": [
    "sc_list"
   ]
  },
  {
   "cell_type": "code",
   "execution_count": 268,
   "metadata": {},
   "outputs": [],
   "source": [
    "pred_place_ls = []\n",
    "for i in range(10):\n",
    "    place = np.zeros((4,4))\n",
    "    place[0,0] = np.sum(y_pred_list[i] == 1)/len(y_pred_list[i])\n",
    "    place[0,1] = np.sum(y_pred_list[i] == 2)/len(y_pred_list[i])\n",
    "    place[0,2] = np.sum(y_pred_list[i] == 3)/len(y_pred_list[i])\n",
    "    place[0,3] = np.sum(y_pred_list[i] == 4)/len(y_pred_list[i])\n",
    "    place[1,0] = np.sum(y_pred_list[i] == 5)/len(y_pred_list[i])\n",
    "    place[1,1] = np.sum(y_pred_list[i] == 6)/len(y_pred_list[i])\n",
    "    place[1,2] = np.sum(y_pred_list[i] == 7)/len(y_pred_list[i])\n",
    "    place[1,3] = np.sum(y_pred_list[i] == 8)/len(y_pred_list[i])\n",
    "    place[2,0] = np.sum(y_pred_list[i] == 10)/len(y_pred_list[i])\n",
    "    place[2,1] = np.sum(y_pred_list[i] == 10)/len(y_pred_list[i])\n",
    "    place[2,2] = np.sum(y_pred_list[i] == 11)/len(y_pred_list[i])\n",
    "    place[2,3] = np.sum(y_pred_list[i] == 12)/len(y_pred_list[i])\n",
    "    place[3,0] = np.sum(y_pred_list[i] == 14)/len(y_pred_list[i])\n",
    "    place[3,1] = np.sum(y_pred_list[i] == 14)/len(y_pred_list[i])\n",
    "    place[3,2] = np.sum(y_pred_list[i] == 15)/len(y_pred_list[i])\n",
    "    place[3,3] = np.sum(y_pred_list[i] == 16)/len(y_pred_list[i])\n",
    "\n",
    "    pred_place_ls.append(place)"
   ]
  },
  {
   "cell_type": "code",
   "execution_count": 269,
   "metadata": {},
   "outputs": [
    {
     "data": {
      "text/plain": [
       "array([[0.        , 0.0673913 , 0.14021739, 0.12173913],\n",
       "       [0.        , 0.02608696, 0.20869565, 0.03695652],\n",
       "       [0.01521739, 0.01521739, 0.10543478, 0.18043478],\n",
       "       [0.01847826, 0.01847826, 0.06304348, 0.01630435]])"
      ]
     },
     "execution_count": 269,
     "metadata": {},
     "output_type": "execute_result"
    }
   ],
   "source": [
    "pred_place_ls[0] # y_pred가 예측한 쥐가 존재하는 곳"
   ]
  },
  {
   "cell_type": "code",
   "execution_count": 270,
   "metadata": {},
   "outputs": [],
   "source": [
    "real_place_ls = []\n",
    "for i in range(10):\n",
    "    place = np.zeros((4,4))\n",
    "    place[0,0] = np.sum(y_real_list[i] == 1)/len(y_real_list[i])\n",
    "    place[0,1] = np.sum(y_real_list[i] == 2)/len(y_real_list[i])\n",
    "    place[0,2] = np.sum(y_real_list[i] == 3)/len(y_real_list[i])\n",
    "    place[0,3] = np.sum(y_real_list[i] == 4)/len(y_real_list[i])\n",
    "    place[1,0] = np.sum(y_real_list[i] == 5)/len(y_real_list[i])\n",
    "    place[1,1] = np.sum(y_real_list[i] == 6)/len(y_real_list[i])\n",
    "    place[1,2] = np.sum(y_real_list[i] == 7)/len(y_real_list[i])\n",
    "    place[1,3] = np.sum(y_real_list[i] == 8)/len(y_real_list[i])\n",
    "    place[2,0] = np.sum(y_real_list[i] == 10)/len(y_real_list[i])\n",
    "    place[2,1] = np.sum(y_real_list[i] == 10)/len(y_real_list[i])\n",
    "    place[2,2] = np.sum(y_real_list[i] == 11)/len(y_real_list[i])\n",
    "    place[2,3] = np.sum(y_real_list[i] == 12)/len(y_real_list[i])\n",
    "    place[3,0] = np.sum(y_real_list[i] == 14)/len(y_real_list[i])\n",
    "    place[3,1] = np.sum(y_real_list[i] == 14)/len(y_real_list[i])\n",
    "    place[3,2] = np.sum(y_real_list[i] == 15)/len(y_real_list[i])\n",
    "    place[3,3] = np.sum(y_real_list[i] == 16)/len(y_real_list[i])\n",
    "\n",
    "    real_place_ls.append(place)"
   ]
  },
  {
   "cell_type": "code",
   "execution_count": 271,
   "metadata": {},
   "outputs": [
    {
     "data": {
      "text/plain": [
       "array([[0.        , 0.0923913 , 0.10217391, 0.09891304],\n",
       "       [0.        , 0.05978261, 0.19891304, 0.11195652],\n",
       "       [0.04565217, 0.04565217, 0.09021739, 0.06413043],\n",
       "       [0.01304348, 0.01304348, 0.07608696, 0.04673913]])"
      ]
     },
     "execution_count": 271,
     "metadata": {},
     "output_type": "execute_result"
    }
   ],
   "source": [
    "real_place_ls[0] # 실제 쥐가 있었던 공간."
   ]
  },
  {
   "cell_type": "markdown",
   "metadata": {},
   "source": [
    "## visulaztion"
   ]
  },
  {
   "cell_type": "code",
   "execution_count": 177,
   "metadata": {},
   "outputs": [],
   "source": [
    "import seaborn as sns\n",
    "from pylab import savefig"
   ]
  },
  {
   "cell_type": "code",
   "execution_count": 281,
   "metadata": {},
   "outputs": [],
   "source": [
    "var1 = 'pred_place' + str(i) +'.png'"
   ]
  },
  {
   "cell_type": "code",
   "execution_count": 282,
   "metadata": {},
   "outputs": [
    {
     "data": {
      "text/plain": [
       "'pred_place0.png'"
      ]
     },
     "execution_count": 282,
     "metadata": {},
     "output_type": "execute_result"
    }
   ],
   "source": [
    "var1"
   ]
  },
  {
   "cell_type": "code",
   "execution_count": 289,
   "metadata": {},
   "outputs": [
    {
     "data": {
      "image/png": "[encoded data removed]",
      "text/plain": [
       "<Figure size 432x288 with 1 Axes>"
      ]
     },
     "metadata": {},
     "output_type": "display_data"
    }
   ],
   "source": [
    "for i in range(0,10):\n",
    "    ax0 = sns.heatmap(pred_place_ls[i], xticklabels=False,yticklabels=False, cmap = 'Reds', vmax = 0.25, cbar = False)\n",
    "    ax1 = sns.heatmap(real_place_ls[i], xticklabels=False,yticklabels=False, cmap = 'Reds', vmax = 0.25, cbar = False)\n",
    "\n",
    "    fig0 = ax0.get_figure()\n",
    "    fig1 = ax1.get_figure()\n",
    "    \n",
    "    fig0.savefig(\"pred_place\" + str(i) +\".png\")\n",
    "    fig1.savefig(\"real_place\" + str(i) +\".png\")"
   ]
  },
  {
   "cell_type": "code",
   "execution_count": 199,
   "metadata": {},
   "outputs": [
    {
     "data": {
      "image/png": "[encoded data removed]",
      "text/plain": [
       "<Figure size 432x288 with 2 Axes>"
      ]
     },
     "metadata": {},
     "output_type": "display_data"
    }
   ],
   "source": [
    "ax0 = sns.heatmap(place, xticklabels=False,yticklabels=False, cmap = 'Reds', vmax = 0.25)"
   ]
  },
  {
   "cell_type": "code",
   "execution_count": 200,
   "metadata": {},
   "outputs": [
    {
     "data": {
      "image/png": "[encoded data removed]",
      "text/plain": [
       "<Figure size 432x288 with 2 Axes>"
      ]
     },
     "metadata": {},
     "output_type": "display_data"
    }
   ],
   "source": [
    "ax1 = sns.heatmap(pred_place,xticklabels=False,yticklabels=False, cmap = 'Reds', vmax = 0.25)"
   ]
  }
 ],
 "metadata": {
  "kernelspec": {
   "display_name": "Python 3",
   "language": "python",
   "name": "python3"
  },
  "language_info": {
   "codemirror_mode": {
    "name": "ipython",
    "version": 3
   },
   "file_extension": ".py",
   "mimetype": "text/x-python",
   "name": "python",
   "nbconvert_exporter": "python",
   "pygments_lexer": "ipython3",
   "version": "3.6.5"
  }
 },
 "nbformat": 4,
 "nbformat_minor": 2
}
